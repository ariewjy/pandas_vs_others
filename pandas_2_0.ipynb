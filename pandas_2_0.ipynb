{
 "cells": [
  {
   "cell_type": "code",
   "execution_count": 1,
   "id": "12cf5f92-ae43-4855-823f-0ea5ee2d8cfa",
   "metadata": {
    "tags": []
   },
   "outputs": [],
   "source": [
    "import pandas as pd\n",
    "import polars as pl\n",
    "import matplotlib.pyplot as plt\n",
    "import seaborn as sns"
   ]
  },
  {
   "cell_type": "code",
   "execution_count": 2,
   "id": "ba7bb05f-e680-4cad-bce9-2568536b1853",
   "metadata": {
    "tags": []
   },
   "outputs": [
    {
     "data": {
      "text/plain": [
       "'2.0.0rc0'"
      ]
     },
     "execution_count": 2,
     "metadata": {},
     "output_type": "execute_result"
    }
   ],
   "source": [
    "pd.__version__"
   ]
  },
  {
   "cell_type": "code",
   "execution_count": 3,
   "id": "3dc1cd5d-1957-4cc4-98ad-196815691051",
   "metadata": {
    "tags": []
   },
   "outputs": [
    {
     "data": {
      "text/plain": [
       "'0.16.11'"
      ]
     },
     "execution_count": 3,
     "metadata": {},
     "output_type": "execute_result"
    }
   ],
   "source": [
    "pl.__version__"
   ]
  },
  {
   "cell_type": "code",
   "execution_count": 4,
   "id": "f342be4a-6715-43a5-89e9-e74fface8b08",
   "metadata": {
    "tags": []
   },
   "outputs": [],
   "source": [
    "from datetime import datetime\n",
    "from tqdm import tqdm\n",
    "def time_stamp():\n",
    "    return datetime.now()"
   ]
  },
  {
   "cell_type": "markdown",
   "id": "cffc4bd2-9d71-4eac-8f47-1c8cfcb9107c",
   "metadata": {
    "tags": []
   },
   "source": [
    "### Using Numpy as Pandas Backend"
   ]
  },
  {
   "cell_type": "code",
   "execution_count": 6,
   "id": "39048ec8-2e75-4eec-8fd4-be258cff6793",
   "metadata": {
    "tags": []
   },
   "outputs": [
    {
     "name": "stderr",
     "output_type": "stream",
     "text": [
      "<magic-timeit>:2: DtypeWarning: Columns (7,8) have mixed types. Specify dtype option on import or set low_memory=False.\n"
     ]
    },
    {
     "name": "stdout",
     "output_type": "stream",
     "text": [
      "6.28 s ± 88.8 ms per loop (mean ± std. dev. of 7 runs, 1 loop each)\n"
     ]
    }
   ],
   "source": [
    "%%timeit\n",
    "#using numpy\n",
    "df_numpy = pd.read_csv('./flights.csv')"
   ]
  },
  {
   "cell_type": "markdown",
   "id": "40faba9d-8af0-48a0-905b-d38527cb9174",
   "metadata": {},
   "source": [
    "### Using Arrow as Pandas Backend"
   ]
  },
  {
   "cell_type": "code",
   "execution_count": 5,
   "id": "e9a53d15-1046-4123-a262-b001b31e5cdc",
   "metadata": {
    "tags": []
   },
   "outputs": [
    {
     "name": "stdout",
     "output_type": "stream",
     "text": [
      "1.86 s ± 157 ms per loop (mean ± std. dev. of 7 runs, 1 loop each)\n"
     ]
    }
   ],
   "source": [
    "%%timeit\n",
    "#using arrow\n",
    "df_arrow = pd.read_csv('./flights.csv',\n",
    "                      engine='pyarrow')"
   ]
  },
  {
   "cell_type": "markdown",
   "id": "9d60e488-ed49-49fa-9ce1-b7ae63a7558b",
   "metadata": {},
   "source": [
    "### Using Polars"
   ]
  },
  {
   "cell_type": "code",
   "execution_count": 5,
   "id": "e1527d11-1008-4414-bbf8-7ee6aa067839",
   "metadata": {
    "tags": []
   },
   "outputs": [
    {
     "name": "stdout",
     "output_type": "stream",
     "text": [
      "3.01 s ± 84.5 ms per loop (mean ± std. dev. of 7 runs, 1 loop each)\n"
     ]
    }
   ],
   "source": [
    "%%timeit\n",
    "#using arrow\n",
    "df_polars = pl.read_csv('./flights.csv', rechunk=False)"
   ]
  },
  {
   "cell_type": "markdown",
   "id": "56b9205b-21e8-4d02-8763-bd43aa843239",
   "metadata": {},
   "source": [
    "### Using Polars with Pyarrow"
   ]
  },
  {
   "cell_type": "code",
   "execution_count": 5,
   "id": "b956b13a-a520-4645-be81-ea965d8aefc6",
   "metadata": {
    "tags": []
   },
   "outputs": [
    {
     "name": "stdout",
     "output_type": "stream",
     "text": [
      "1.29 s ± 70.6 ms per loop (mean ± std. dev. of 7 runs, 1 loop each)\n"
     ]
    }
   ],
   "source": [
    "%%timeit\n",
    "#using arrow\n",
    "df_polars = pl.read_csv('./flights.csv', use_pyarrow=True, rechunk=False)"
   ]
  },
  {
   "cell_type": "markdown",
   "id": "8fcec3b3-75b7-4c54-8543-b3598ee31c3d",
   "metadata": {},
   "source": [
    "### Creating dataframe of timelapse"
   ]
  },
  {
   "cell_type": "code",
   "execution_count": 6,
   "id": "09d98dea-e38c-48eb-ae44-27eae6aa4831",
   "metadata": {
    "tags": []
   },
   "outputs": [
    {
     "data": {
      "text/html": [
       "<div>\n",
       "<style scoped>\n",
       "    .dataframe tbody tr th:only-of-type {\n",
       "        vertical-align: middle;\n",
       "    }\n",
       "\n",
       "    .dataframe tbody tr th {\n",
       "        vertical-align: top;\n",
       "    }\n",
       "\n",
       "    .dataframe thead th {\n",
       "        text-align: right;\n",
       "    }\n",
       "</style>\n",
       "<table border=\"1\" class=\"dataframe\">\n",
       "  <thead>\n",
       "    <tr style=\"text-align: right;\">\n",
       "      <th></th>\n",
       "      <th>pandas with numpy</th>\n",
       "      <th>pandas with arrow</th>\n",
       "      <th>polars</th>\n",
       "      <th>polars with arrow</th>\n",
       "    </tr>\n",
       "  </thead>\n",
       "  <tbody>\n",
       "    <tr>\n",
       "      <th>0</th>\n",
       "      <td>6.28</td>\n",
       "      <td>1.75</td>\n",
       "      <td>3.01</td>\n",
       "      <td>1.29</td>\n",
       "    </tr>\n",
       "  </tbody>\n",
       "</table>\n",
       "</div>"
      ],
      "text/plain": [
       "   pandas with numpy  pandas with arrow  polars  polars with arrow\n",
       "0               6.28               1.75    3.01               1.29"
      ]
     },
     "execution_count": 6,
     "metadata": {},
     "output_type": "execute_result"
    }
   ],
   "source": [
    "dict_elapsed_time = {\n",
    "    \"pandas with numpy\": 6.28,\n",
    "    \"pandas with arrow\": 1.75,\n",
    "    \"polars\": 3.01,\n",
    "    \"polars with arrow\": 1.29\n",
    "}\n",
    "\n",
    "df_timelapse = pd.DataFrame(dict_elapsed_time, index=range(1))\n",
    "\n",
    "df_timelapse"
   ]
  },
  {
   "cell_type": "code",
   "execution_count": 7,
   "id": "673bdec1-0c58-485a-b90a-8d4a67b607ac",
   "metadata": {
    "tags": []
   },
   "outputs": [
    {
     "name": "stderr",
     "output_type": "stream",
     "text": [
      "/var/folders/k3/rq3y45b92kbf6vtf128q_99r0000gn/T/ipykernel_48740/2112410932.py:1: MatplotlibDeprecationWarning: The seaborn styles shipped by Matplotlib are deprecated since 3.6, as they no longer correspond to the styles shipped by seaborn. However, they will remain available as 'seaborn-v0_8-<style>'. Alternatively, directly use the seaborn API instead.\n",
      "  plt.style.use(\"seaborn\")\n"
     ]
    },
    {
     "data": {
      "image/png": "[encoded data removed]",
      "text/plain": [
       "<Figure size 800x550 with 1 Axes>"
      ]
     },
     "metadata": {},
     "output_type": "display_data"
    }
   ],
   "source": [
    "plt.style.use(\"seaborn\")\n",
    "df_timelapse.plot(\n",
    "    kind='bar', ylabel='Elapsed time parsing in s',\n",
    "    # colormap='tab10',\n",
    ")\n",
    "plt.suptitle(\"Comparison between Dataframe Libraries\", fontsize=18, fontweight ='bold')\n",
    "plt.title(\"Parsing 590 MB CSV file (kernel is restarted between runs)\", fontsize=14)\n",
    "plt.show()"
   ]
  },
  {
   "cell_type": "code",
   "execution_count": null,
   "id": "6ffd26b8-0727-48aa-845c-35defbda3791",
   "metadata": {},
   "outputs": [],
   "source": []
  },
  {
   "cell_type": "code",
   "execution_count": null,
   "id": "7349c168-09b1-4f55-9207-59ae9730b968",
   "metadata": {},
   "outputs": [],
   "source": []
  },
  {
   "cell_type": "code",
   "execution_count": null,
   "id": "7d13bf2c-224b-47cc-83eb-9be3caa26e3d",
   "metadata": {},
   "outputs": [],
   "source": []
  }
 ],
 "metadata": {
  "kernelspec": {
   "display_name": "Python 3 (ipykernel)",
   "language": "python",
   "name": "python3"
  },
  "language_info": {
   "codemirror_mode": {
    "name": "ipython",
    "version": 3
   },
   "file_extension": ".py",
   "mimetype": "text/x-python",
   "name": "python",
   "nbconvert_exporter": "python",
   "pygments_lexer": "ipython3",
   "version": "3.9.11"
  }
 },
 "nbformat": 4,
 "nbformat_minor": 5
}
